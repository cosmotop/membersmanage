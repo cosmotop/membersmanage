{
 "cells": [
  {
   "cell_type": "markdown",
   "id": "d15756eb",
   "metadata": {
    "id": "710ee378"
   },
   "source": [
    "# 종합실습"
   ]
  },
  {
   "cell_type": "markdown",
   "id": "5b655140",
   "metadata": {
    "id": "e30eb3da"
   },
   "source": [
    "## 과제1. 회원 관리 프로그램"
   ]
  },
  {
   "cell_type": "markdown",
   "id": "9d58668d",
   "metadata": {
    "id": "8e48b532"
   },
   "source": [
    "* 회원 이름과 이메일 주소를 입력받아 엑셀에 저장하는 프로그램을 만드시오.\n",
    "* 'members.xlsx’ 파일에는 이미 두명의 회원이 등록되어 있습니다. \n",
    "\n",
    "* 기본 기능  \n",
    "> * 이름, 이메일, 전화번호를 입력 받아 input통해 (한꺼번에 입력받아, 리스트로 만들어 처리. .split 활용)\n",
    "> * 엑셀 틀에 맞게 제일 마지막 행에 저장\n",
    "> * 단, 이메일 주소는 실제 메일 수신 가능해야 합니다.\n",
    "\n",
    "* 심화 기능\n",
    "> * 입력값 확인. 값이 3개,  쉼표로 구분된 값인지 확인.\n",
    "> * 회원 가입을 계속할지, 종료할지를 묻기"
   ]
  },
  {
   "cell_type": "code",
   "execution_count": 3,
   "id": "46fab6d2",
   "metadata": {
    "id": "5bcbadaf",
    "scrolled": true
   },
   "outputs": [
    {
     "name": "stdout",
     "output_type": "stream",
     "text": [
      "정보를 입력하세요. 양식:xxx,xxx@xxx.xxx,010-xxxx-xxxx / 종료를 원하시면 exit안유균,cosmotop@naver.com,010-9123-4567\n",
      "3 <re.Match object; span=(0, 3), match='안유균'> <re.Match object; span=(0, 18), match='cosmotop@naver.com'> <re.Match object; span=(0, 13), match='010-9123-4567'>\n",
      "정보를 입력하세요. 양식:xxx,xxx@xxx.xxx,010-xxxx-xxxx / 종료를 원하시면 exitexit\n"
     ]
    }
   ],
   "source": [
    "import openpyxl as xl\n",
    "import re\n",
    "na = re.compile(r'\\w+')\n",
    "em = re.compile(r'\\w+[@]\\w+[.]\\w+')\n",
    "mn = re.compile(r'010-\\d\\d\\d\\d-\\d\\d\\d\\d')\n",
    "wb = xl.load_workbook(\"members.xlsx\")\n",
    "sheet1 = wb['Sheet1']\n",
    "while(1):\n",
    "    x = input('정보를 입력하세요. 양식:xxx,xxx@xxx.xxx,010-xxxx-xxxx / 종료를 원하시면 exit')\n",
    "    if x == 'exit':\n",
    "        break\n",
    "    l = x.split(',')\n",
    "    if len(l) != 3 or na.search(l[0]) is None or em.search(l[1]) is None or mn.search(l[2]) is None:\n",
    "        print('잘못된 양식입니다.')\n",
    "        continue\n",
    "    max_r = sheet1.max_row\n",
    "    sheet1.insert_rows(max_r+1)\n",
    "    for i in range(3):\n",
    "        sheet1.cell(max_r+1, i+1).value = l[i]\n",
    "    wb.save('members.xlsx')\n",
    "        \n",
    "\n",
    "\n"
   ]
  },
  {
   "cell_type": "markdown",
   "id": "05e18132",
   "metadata": {
    "id": "8f3a1740"
   },
   "source": [
    "## 과제2. 회원들에게 이메일 발송"
   ]
  },
  {
   "cell_type": "markdown",
   "id": "9af65f2b",
   "metadata": {
    "id": "7840678c"
   },
   "source": [
    "* 과제1에서 저장된 회원정보(members.xlsx)를 읽어서 회원 각각에게 이메일을 보내 봅시다.\n",
    "\n",
    "> * 제목 : “2021년 송년 인사”\n",
    "> * 내용 :  \n",
    ">     OOO 회원님 안녕하세요?  \n",
    "벌써 2021년도 저물어 가고 있습니다.  \n",
    "올 한해 정말 수고 많았습니다.   \n",
    "첨부한 커피 쿠폰으로 조금이나마 따뜻한 연말을 보내시기 바랍니다.  \n",
    "감사합니다. \n",
    "\n",
    "> * 회원마다 보내지는 이메일에서 각자 달라지는 것은,\t수신 이메일 주소, 메일 내용에서의 회원 이름 입니다."
   ]
  },
  {
   "cell_type": "code",
   "execution_count": 6,
   "id": "2805cb9d",
   "metadata": {
    "id": "5c5a29a9"
   },
   "outputs": [
    {
     "data": {
      "text/plain": [
       "(221, b'2.0.0 closing connection a16sm8217646pfv.160 - gsmtp')"
      ]
     },
     "execution_count": 6,
     "metadata": {},
     "output_type": "execute_result"
    }
   ],
   "source": [
    "import smtplib\n",
    "from email.mime.text import MIMEText\n",
    "s = smtplib.SMTP('smtp.gmail.com', 587)\n",
    "s.starttls()                 \n",
    "s.login('cosmotop2018@gmail.com', 'xfhwjfhrnhldbhwp')\n",
    "wb = xl.load_workbook(\"members.xlsx\")\n",
    "sheet1 = wb['Sheet1']\n",
    "max_r = sheet1.max_row\n",
    "for x in range(2,max_r+1):\n",
    "    name = sheet1.cell(x, 1).value\n",
    "    email = sheet1.cell(x, 2).value\n",
    "    msg = MIMEText(f'''{name} 회원님 안녕하세요?\n",
    "    벌써 2021년도 저물어 가고 있습니다.\n",
    "    올 한해 정말 수고 많았습니다.\n",
    "    첨부한 커피 쿠폰으로 조금이나마 따뜻한 연말을 보내시기 바랍니다.\n",
    "    감사합니다.''')\n",
    "    msg['Subject'] = '2021년 송년 인사'\n",
    "    s.sendmail(\"cosmotop2018@gmail.com\", email, msg.as_string())\n",
    "s.quit()                                    \n",
    "    \n"
   ]
  },
  {
   "cell_type": "code",
   "execution_count": null,
   "id": "194e0b94",
   "metadata": {},
   "outputs": [],
   "source": []
  }
 ],
 "metadata": {
  "colab": {
   "collapsed_sections": [],
   "name": "과정_종합실습문제.ipynb",
   "provenance": []
  },
  "kernelspec": {
   "display_name": "Python 3",
   "language": "python",
   "name": "python3"
  },
  "language_info": {
   "codemirror_mode": {
    "name": "ipython",
    "version": 3
   },
   "file_extension": ".py",
   "mimetype": "text/x-python",
   "name": "python",
   "nbconvert_exporter": "python",
   "pygments_lexer": "ipython3",
   "version": "3.8.8"
  }
 },
 "nbformat": 4,
 "nbformat_minor": 5
}
